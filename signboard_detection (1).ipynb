{
  "cells": [
    {
      "cell_type": "code",
      "execution_count": null,
      "metadata": {
        "colab": {
          "background_save": true
        },
        "id": "lyU-KNbacDTN"
      },
      "outputs": [],
      "source": [
        "# !pip install imutils"
      ]
    },
    {
      "cell_type": "code",
      "execution_count": null,
      "metadata": {
        "colab": {
          "background_save": true
        },
        "id": "SuFuMtiCcDTP"
      },
      "outputs": [],
      "source": [
        "import sys\n",
        "import os\n",
        "import cv2\n",
        "import datetime\n",
        "# import imutils\n",
        "import numpy as np\n",
        "from pathlib import Path\n",
        "import random\n",
        "import xml.etree.ElementTree as ET\n",
        "\n",
        "import matplotlib.pyplot as plt\n",
        "from sklearn.model_selection import train_test_split\n",
        "\n",
        "from tensorflow.keras.layers import Flatten\n",
        "from tensorflow.keras.layers import Dense\n",
        "from tensorflow.keras.layers import Input\n",
        "from tensorflow.keras.models import Model\n",
        "from tensorflow.keras.optimizers import Adam\n",
        "from tensorflow.keras.preprocessing.image import img_to_array\n",
        "from tensorflow.keras.preprocessing.image import load_img\n",
        "from tensorflow.keras.models import load_model\n",
        "from tensorflow.keras.applications import VGG16\n",
        "from tensorflow.keras.layers import Dropout\n",
        "from tensorflow.keras.utils import to_categorical\n",
        "from sklearn.preprocessing import LabelBinarizer\n",
        "\n",
        "import pickle"
      ]
    },
    {
      "cell_type": "code",
      "execution_count": null,
      "metadata": {
        "colab": {
          "background_save": true
        },
        "id": "wYRpFvydcDTP"
      },
      "outputs": [],
      "source": [
        "data = []\n",
        "labels = []\n",
        "bboxes = []\n",
        "imagePaths = []\n",
        "\n",
        "# classes = [\"trafficlight\", \"speedlimit\", \"crosswalk\", \"stop\"]"
      ]
    },
    {
      "cell_type": "code",
      "execution_count": null,
      "metadata": {
        "colab": {
          "background_save": true
        },
        "id": "hssFKXj7cM9o"
      },
      "outputs": [],
      "source": [
        "from google.colab import drive\n",
        "drive.mount('/content/gdrive')"
      ]
    },
    {
      "cell_type": "code",
      "execution_count": null,
      "metadata": {
        "colab": {
          "background_save": true
        },
        "id": "jmVayHG6jVUi"
      },
      "outputs": [],
      "source": [
        "!unzip -q \"/content/gdrive/My Drive/signboarddetection.zip\""
      ]
    },
    {
      "cell_type": "code",
      "execution_count": null,
      "metadata": {
        "colab": {
          "background_save": true
        },
        "id": "-QML-m88cDTQ"
      },
      "outputs": [],
      "source": [
        "annot_dir  = \"annotations\"\n",
        "images_dir = \"images\"  #signboarddetection/"
      ]
    },
    {
      "cell_type": "code",
      "execution_count": null,
      "metadata": {
        "colab": {
          "background_save": true
        },
        "id": "ZHe8ttAucDTQ"
      },
      "outputs": [],
      "source": [
        "for filename in os.listdir(annot_dir):\n",
        "    f = os.path.join(annot_dir, filename)\n",
        "    tree = ET.parse(f)\n",
        "    root = tree.getroot()\n",
        "\n",
        "    w = int(root.find('.//size/width').text)\n",
        "    h = int(root.find('.//size/height').text)\n",
        "\n",
        "    for box in root.findall('.//bndbox'):\n",
        "        xmin = int(box.find('xmin').text) / w\n",
        "        ymin = int(box.find('ymin').text) / h\n",
        "        xmax = int(box.find('xmax').text) / w\n",
        "        ymax = int(box.find('ymax').text) / h\n",
        "\n",
        "    label = root.find('.//object/name').text\n",
        "\n",
        "    imname = root.find('.//filename').text\n",
        "    impath = os.path.join(images_dir, imname)\n",
        "    image = load_img(impath, target_size=(224,224))\n",
        "    image = img_to_array(image)\n",
        "\n",
        "    data.append(image)\n",
        "    labels.append(label)\n",
        "    bboxes.append((xmin,ymin,xmax,ymax))\n",
        "    imagePaths.append(impath)"
      ]
    },
    {
      "cell_type": "code",
      "execution_count": null,
      "metadata": {
        "colab": {
          "background_save": true
        },
        "id": "x4aIvw42cDTR"
      },
      "outputs": [],
      "source": [
        "imgplot = plt.imshow(image.astype('uint8'))\n",
        "print(labels[-1])\n",
        "print(bboxes[-1])\n",
        "print(imagePaths[-1])\n",
        "plt.show()"
      ]
    },
    {
      "cell_type": "code",
      "execution_count": null,
      "metadata": {
        "colab": {
          "background_save": true
        },
        "id": "PdFaWvobcDTR"
      },
      "outputs": [],
      "source": [
        "# normalize -> from [0-255] to [0-1]\n",
        "data = np.array(data, dtype=\"float32\") / 255.0\n",
        "\n",
        "# convert to np arrays\n",
        "labels = np.array(labels)\n",
        "bboxes = np.array(bboxes, dtype=\"float32\")\n",
        "imagePaths = np.array(imagePaths)\n",
        "\n",
        "# one-hot encoding\n",
        "lb = LabelBinarizer()\n",
        "labels = lb.fit_transform(labels)"
      ]
    },
    {
      "cell_type": "code",
      "execution_count": null,
      "metadata": {
        "colab": {
          "background_save": true
        },
        "id": "8nhUVFqYcDTR"
      },
      "outputs": [],
      "source": [
        "# test-train split 20%,80%\n",
        "\n",
        "split = train_test_split(data,labels,bboxes,imagePaths,test_size=0.20,random_state=1)"
      ]
    },
    {
      "cell_type": "code",
      "execution_count": null,
      "metadata": {
        "colab": {
          "background_save": true
        },
        "id": "peRz1TG72fpe"
      },
      "outputs": [],
      "source": [
        "split"
      ]
    },
    {
      "cell_type": "code",
      "execution_count": null,
      "metadata": {
        "colab": {
          "background_save": true
        },
        "id": "QdAN-veNcDTS"
      },
      "outputs": [],
      "source": [
        "(trainImages, testImages) = split[:2]\n",
        "(trainLabels, testLabels) = split[2:4]\n",
        "(trainBBoxes, testBBoxes) = split[4:6]\n",
        "(trainPaths,  testPaths)  = split[6:]\n",
        "\n",
        "# saving test files for later use\n",
        "with open(\"testing_multiclass.txt\", \"w\") as f:\n",
        "    f.write(\"\\n\".join(testPaths))"
      ]
    },
    {
      "cell_type": "code",
      "execution_count": null,
      "metadata": {
        "colab": {
          "background_save": true
        },
        "id": "ivQHxB7R4t89"
      },
      "outputs": [],
      "source": [
        "testLabels"
      ]
    },
    {
      "cell_type": "markdown",
      "metadata": {
        "id": "3TqS-ZREcDTT"
      },
      "source": [
        "### The Neural Net : Architecture"
      ]
    },
    {
      "cell_type": "code",
      "execution_count": null,
      "metadata": {
        "colab": {
          "background_save": true
        },
        "id": "Q8U9c_oscDTU"
      },
      "outputs": [],
      "source": [
        "vgg = VGG16(weights=\"imagenet\",\n",
        "            include_top=False,\n",
        "            input_tensor=Input(shape=(224, 224, 3)))"
      ]
    },
    {
      "cell_type": "code",
      "execution_count": null,
      "metadata": {
        "colab": {
          "background_save": true
        },
        "id": "gqxRpwPncDTV"
      },
      "outputs": [],
      "source": [
        "# freeze training any of the layers of VGGNet\n",
        "vgg.trainable = False\n",
        "\n",
        "# max-pooling is output of VGG, flattening it further\n",
        "flatten = vgg.output\n",
        "flatten = Flatten()(flatten)"
      ]
    },
    {
      "cell_type": "code",
      "execution_count": null,
      "metadata": {
        "colab": {
          "background_save": true
        },
        "id": "x4SmfvhEcDTV"
      },
      "outputs": [],
      "source": [
        "bboxHead = Dense(128, activation=\"relu\")(flatten)\n",
        "bboxHead = Dense(64, activation=\"relu\")(bboxHead)\n",
        "bboxHead = Dense(32, activation=\"relu\")(bboxHead)\n",
        "bboxHead = Dense(4, activation=\"sigmoid\", name=\"bounding_box\")(bboxHead)\n",
        "# 4 neurons correspond to 4 co-ords in output bbox"
      ]
    },
    {
      "cell_type": "code",
      "execution_count": null,
      "metadata": {
        "colab": {
          "background_save": true
        },
        "id": "wpAxca3ncDTV"
      },
      "outputs": [],
      "source": [
        "softmaxHead = Dense(512, activation=\"relu\")(flatten)\n",
        "softmaxHead = Dropout(0.5)(softmaxHead)\n",
        "softmaxHead = Dense(512, activation=\"relu\")(softmaxHead)\n",
        "softmaxHead = Dropout(0.5)(softmaxHead)\n",
        "softmaxHead = Dense(len(lb.classes_), activation=\"softmax\", name=\"class_label\")(softmaxHead)"
      ]
    },
    {
      "cell_type": "code",
      "execution_count": null,
      "metadata": {
        "colab": {
          "background_save": true
        },
        "id": "fomWFosUcDTW"
      },
      "outputs": [],
      "source": [
        "model = Model(\n",
        "    inputs=vgg.input,\n",
        "    outputs=(bboxHead, softmaxHead))"
      ]
    },
    {
      "cell_type": "code",
      "execution_count": null,
      "metadata": {
        "colab": {
          "background_save": true
        },
        "id": "viIc27lBcDTW"
      },
      "outputs": [],
      "source": [
        "INIT_LR = 1e-4\n",
        "NUM_EPOCHS = 11\n",
        "BATCH_SIZE = 16"
      ]
    },
    {
      "cell_type": "code",
      "execution_count": null,
      "metadata": {
        "colab": {
          "background_save": true
        },
        "id": "LYt8ZFVacDTW"
      },
      "outputs": [],
      "source": [
        "losses = {\n",
        "    \"class_label\": \"categorical_crossentropy\",\n",
        "    \"bounding_box\": \"mean_squared_error\",\n",
        "}\n",
        "\n",
        "lossWeights = {\n",
        "    \"class_label\": 1.0,\n",
        "    \"bounding_box\": 1.0\n",
        "}\n",
        "\n",
        "trainTargets = {\n",
        "    \"class_label\": trainLabels,\n",
        "    \"bounding_box\": trainBBoxes\n",
        "}\n",
        "\n",
        "testTargets = {\n",
        "    \"class_label\": testLabels,\n",
        "    \"bounding_box\": testBBoxes\n",
        "}"
      ]
    },
    {
      "cell_type": "code",
      "execution_count": null,
      "metadata": {
        "colab": {
          "background_save": true
        },
        "id": "ksEtM2HbcDTW"
      },
      "outputs": [],
      "source": [
        "opt = Adam(INIT_LR)\n",
        "\n",
        "model.compile(loss=losses,\n",
        "              optimizer=opt,\n",
        "              metrics=[\"accuracy\"],\n",
        "              loss_weights=lossWeights)\n",
        "\n",
        "print(model.summary())"
      ]
    },
    {
      "cell_type": "markdown",
      "metadata": {
        "id": "kjo6gh73cDTW"
      },
      "source": [
        "### Training"
      ]
    },
    {
      "cell_type": "code",
      "execution_count": null,
      "metadata": {
        "colab": {
          "background_save": true
        },
        "id": "OQcCu8mCcDTX"
      },
      "outputs": [],
      "source": [
        "H = model.fit(\n",
        "    trainImages, trainTargets,\n",
        "    validation_data=(testImages, testTargets),\n",
        "    batch_size=BATCH_SIZE,\n",
        "\n",
        "\n",
        "    epochs=NUM_EPOCHS,\n",
        "    verbose=1)"
      ]
    },
    {
      "cell_type": "code",
      "execution_count": null,
      "metadata": {
        "colab": {
          "background_save": true
        },
        "id": "lTU5ApxRcDTX"
      },
      "outputs": [],
      "source": [
        "model.save(\"model_bbox_regression_and_classification\", save_format=\"h5\")\n"
      ]
    },
    {
      "cell_type": "code",
      "execution_count": null,
      "metadata": {
        "colab": {
          "background_save": true
        },
        "id": "Ec01H95TcDTX"
      },
      "outputs": [],
      "source": [
        "f = open(\"lb.pickle\", \"wb\")\n",
        "f.write(pickle.dumps(lb))\n",
        "f.close()"
      ]
    },
    {
      "cell_type": "code",
      "execution_count": null,
      "metadata": {
        "colab": {
          "background_save": true
        },
        "id": "2uX4-tf4cDTX"
      },
      "outputs": [],
      "source": [
        "lossNames = [\"loss\",\n",
        "             \"class_label_loss\",\n",
        "             \"bounding_box_loss\"]\n",
        "\n",
        "N = np.arange(0, NUM_EPOCHS)\n",
        "plt.style.use(\"ggplot\")\n",
        "(fig, ax) = plt.subplots(3, 1, figsize=(17, 25))\n",
        "\n",
        "# plotting the loss for training and validation data\n",
        "\n",
        "for (i, l) in enumerate(lossNames):\n",
        "    title = \"Loss for {}\".format(l) if l != \"loss\" else \"Total loss\"\n",
        "    ax[i].set_title(title)\n",
        "    ax[i].set_xlabel(\"Epoch #\")\n",
        "    ax[i].set_ylabel(\"Loss\")\n",
        "    ax[i].plot(N, H.history[l], label=l)\n",
        "    ax[i].plot(N, H.history[\"val_\" + l], label=\"val_\" + l)\n",
        "    ax[i].legend()"
      ]
    },
    {
      "cell_type": "code",
      "execution_count": null,
      "metadata": {
        "colab": {
          "background_save": true
        },
        "id": "ymHTTQGLcDTY"
      },
      "outputs": [],
      "source": [
        "# create a new figure for the accuracies\n",
        "plt.style.use(\"ggplot\")\n",
        "plt.figure(figsize=(17, 10))\n",
        "\n",
        "plt.plot(N, H.history[\"class_label_accuracy\"],\n",
        "         label=\"class_label_train_acc\")\n",
        "plt.plot(N, H.history[\"val_class_label_accuracy\"],\n",
        "         label=\"val_class_label_acc\")\n",
        "\n",
        "plt.title(\"Class Label Accuracy\")\n",
        "plt.xlabel(\"Epoch #\")\n",
        "plt.ylabel(\"Accuracy\")\n",
        "plt.legend(loc=\"lower left\")\n",
        "\n",
        "# save the accuracies plot\n",
        "plotPath = os.path.sep.join([\"acc_label.png\"])\n",
        "plt.savefig(plotPath)"
      ]
    },
    {
      "cell_type": "code",
      "execution_count": null,
      "metadata": {
        "colab": {
          "background_save": true
        },
        "id": "S52kJYEKcDTY"
      },
      "outputs": [],
      "source": [
        "# create a new figure for the accuracies\n",
        "plt.style.use(\"ggplot\")\n",
        "plt.figure(figsize=(17, 10))\n",
        "\n",
        "plt.plot(N, H.history[\"bounding_box_accuracy\"],\n",
        "         label=\"Training Data\")\n",
        "plt.plot(N, H.history[\"val_bounding_box_accuracy\"],\n",
        "         label=\"Testing Data\")\n",
        "\n",
        "plt.title(\"Bounding Box Accuracy\")\n",
        "plt.xlabel(\"Epoch #\")\n",
        "plt.ylabel(\"Accuracy\")\n",
        "plt.legend(loc=\"lower left\")\n",
        "\n",
        "# save the accuracies plot\n",
        "plotPath = os.path.sep.join([\"acc_bbox.png\"])\n",
        "plt.savefig(plotPath)"
      ]
    },
    {
      "cell_type": "markdown",
      "metadata": {
        "id": "gwINNYhAcDTY"
      },
      "source": [
        "### Testing the model"
      ]
    },
    {
      "cell_type": "code",
      "execution_count": null,
      "metadata": {
        "colab": {
          "background_save": true
        },
        "id": "GOkcNeYVcDTY"
      },
      "outputs": [],
      "source": [
        "path = \"testing_multiclass.txt\"\n",
        "filenames = open(path).read().strip().split(\"\\n\")\n",
        "imagePaths = []\n",
        "\n",
        "for f in filenames:\n",
        "    imagePaths.append(f)"
      ]
    },
    {
      "cell_type": "code",
      "execution_count": null,
      "metadata": {
        "colab": {
          "background_save": true
        },
        "id": "U9leichdcDTY"
      },
      "outputs": [],
      "source": [
        "model = load_model(\"./model_bbox_regression_and_classification\")\n",
        "lb = pickle.loads(open(\"./lb.pickle\", \"rb\").read())\n"
      ]
    },
    {
      "cell_type": "code",
      "execution_count": null,
      "metadata": {
        "colab": {
          "background_save": true
        },
        "id": "18FcJOgicDTZ"
      },
      "outputs": [],
      "source": [
        "actual_labels = []\n",
        "predicted_labels = []\n",
        "\n",
        "for imagePath in imagePaths:\n",
        "\n",
        "    # loading input image\n",
        "    image = load_img(imagePath, target_size=(224, 224))\n",
        "    image = img_to_array(image) / 255.0\n",
        "    image = np.expand_dims(image, axis=0)\n",
        "\n",
        "    # predicting bbox and label\n",
        "    (boxPreds, labelPreds) = model.predict(image)\n",
        "    (startX, startY, endX, endY) = boxPreds[0]\n",
        "\n",
        "    # finding class label with highest pred. probability\n",
        "    i = np.argmax(labelPreds, axis=1)\n",
        "    label = lb.classes_[i][0]\n",
        "    if (label == \"trafficlight\"):\n",
        "      predicted_labels.append([1,0,0,0])\n",
        "    if (label == \"speedlimit\"):\n",
        "      predicted_labels.append([0,1,0,0])\n",
        "    if (label == \"crosswalk\"):\n",
        "      predicted_labels.append([0,0,1,0])\n",
        "    if (label == \"stop\"):\n",
        "      predicted_labels.append([0,0,0,1])\n",
        "\n",
        "    # loading the image in OpenCV format\n",
        "    image = cv2.imread(imagePath)\n",
        "    # image = imutils.resize(image, width=600)\n",
        "    (h, w) = image.shape[:2]\n",
        "\n",
        "    # scaling pred. bbox coords according to image dims\n",
        "    startX = int(startX * w)\n",
        "    startY = int(startY * h)\n",
        "    endX = int(endX * w)\n",
        "    endY = int(endY * h)\n",
        "\n",
        "    # drawing bbox and label on image\n",
        "    y = startY - 10 if startY - 10 > 10 else startY + 10\n",
        "\n",
        "    cv2.putText(image,\n",
        "                label,\n",
        "                (startX, y),\n",
        "                cv2.FONT_HERSHEY_SIMPLEX,\n",
        "                1,\n",
        "                (0, 255, 0),\n",
        "                2)\n",
        "\n",
        "    cv2.rectangle(image,\n",
        "                  (startX, startY),\n",
        "                  (endX, endY),\n",
        "                  (0, 255, 0),\n",
        "                  2)\n",
        "\n",
        "    # showing the output image\n",
        "    imgplot = plt.imshow(\n",
        "        cv2.cvtColor(image, cv2.COLOR_BGR2RGB).astype('uint8'))\n",
        "    plt.show()"
      ]
    },
    {
      "cell_type": "code",
      "execution_count": null,
      "metadata": {
        "colab": {
          "background_save": true
        },
        "id": "d1E3yj1acDTZ"
      },
      "outputs": [],
      "source": [
        "predicted_labels"
      ]
    },
    {
      "cell_type": "code",
      "execution_count": null,
      "metadata": {
        "colab": {
          "background_save": true
        },
        "id": "Laaz-66FBJRC"
      },
      "outputs": [],
      "source": [
        "testLabels"
      ]
    },
    {
      "cell_type": "code",
      "execution_count": null,
      "metadata": {
        "colab": {
          "background_save": true
        },
        "id": "cJB6ga_GBPUY"
      },
      "outputs": [],
      "source": [
        "predicted_labels_simple = []\n",
        "for arr in (predicted_labels):\n",
        "  if (arr[0]==1):\n",
        "    predicted_labels_simple.append(0)\n",
        "  if (arr[1]==1):\n",
        "    predicted_labels_simple.append(1)\n",
        "  if (arr[2]==1):\n",
        "    predicted_labels_simple.append(2)\n",
        "  if (arr[3]==1):\n",
        "    predicted_labels_simple.append(3)\n",
        "\n",
        "test_labels_simple = []\n",
        "for arr in (testLabels):\n",
        "  if (arr[0]==1):\n",
        "    test_labels_simple.append(0)\n",
        "  if (arr[1]==1):\n",
        "    test_labels_simple.append(1)\n",
        "  if (arr[2]==1):\n",
        "    test_labels_simple.append(2)\n",
        "  if (arr[3]==1):\n",
        "    test_labels_simple.append(3)"
      ]
    },
    {
      "cell_type": "code",
      "execution_count": null,
      "metadata": {
        "colab": {
          "background_save": true
        },
        "id": "uDK0pi-zq3tI"
      },
      "outputs": [],
      "source": [
        "import matplotlib.pyplot as plt\n",
        "from sklearn.metrics import confusion_matrix\n",
        "import torch"
      ]
    },
    {
      "cell_type": "code",
      "execution_count": null,
      "metadata": {
        "colab": {
          "background_save": true
        },
        "id": "H5shS_P4EwGK"
      },
      "outputs": [],
      "source": [
        "classes = [\"trafficlight\", \"speedlimit\", \"crosswalk\", \"stop\"]"
      ]
    },
    {
      "cell_type": "code",
      "execution_count": null,
      "metadata": {
        "colab": {
          "background_save": true
        },
        "id": "M78yK4kqEMg7",
        "outputId": "1555a0cf-3ddb-40a0-c8ec-fced8146eaf2"
      },
      "outputs": [
        {
          "ename": "NameError",
          "evalue": "ignored",
          "output_type": "error",
          "traceback": [
            "\u001b[0;31m---------------------------------------------------------------------------\u001b[0m",
            "\u001b[0;31mNameError\u001b[0m                                 Traceback (most recent call last)",
            "\u001b[0;32m<ipython-input-1-8788ef0f7724>\u001b[0m in \u001b[0;36m<cell line: 1>\u001b[0;34m()\u001b[0m\n\u001b[0;32m----> 1\u001b[0;31m \u001b[0mconfusion\u001b[0m \u001b[0;34m=\u001b[0m \u001b[0mconfusion_matrix\u001b[0m\u001b[0;34m(\u001b[0m\u001b[0mtrain_labels_simple\u001b[0m\u001b[0;34m,\u001b[0m \u001b[0mpredicted_labels_simple\u001b[0m\u001b[0;34m)\u001b[0m\u001b[0;34m\u001b[0m\u001b[0;34m\u001b[0m\u001b[0m\n\u001b[0m",
            "\u001b[0;31mNameError\u001b[0m: name 'confusion_matrix' is not defined"
          ]
        }
      ],
      "source": [
        "confusion = confusion_matrix(test_labels_simple, predicted_labels_simple)"
      ]
    },
    {
      "cell_type": "code",
      "execution_count": null,
      "metadata": {
        "colab": {
          "background_save": true
        },
        "id": "RVNdYMglE6mr"
      },
      "outputs": [],
      "source": [
        "confusion"
      ]
    },
    {
      "cell_type": "code",
      "execution_count": null,
      "metadata": {
        "colab": {
          "background_save": true
        },
        "id": "z4QngCVPF_2U"
      },
      "outputs": [],
      "source": [
        "import seaborn as sns"
      ]
    },
    {
      "cell_type": "code",
      "execution_count": null,
      "metadata": {
        "colab": {
          "background_save": true
        },
        "id": "a3fqZHiGGDAL"
      },
      "outputs": [],
      "source": [
        "sns.heatmap(confusion,annot=True,cmap='Blues')  #,annot=classes,fmt=\"\",cmap='RdYlGn',linewidths=0.30,ax=ax)"
      ]
    },
    {
      "cell_type": "code",
      "execution_count": null,
      "metadata": {
        "colab": {
          "background_save": true
        },
        "id": "Sc4Yl_scLpjI"
      },
      "outputs": [],
      "source": []
    }
  ],
  "metadata": {
    "accelerator": "GPU",
    "colab": {
      "provenance": []
    },
    "gpuClass": "standard",
    "kernelspec": {
      "display_name": "Python 3",
      "language": "python",
      "name": "python3"
    },
    "language_info": {
      "codemirror_mode": {
        "name": "ipython",
        "version": 3
      },
      "file_extension": ".py",
      "mimetype": "text/x-python",
      "name": "python",
      "nbconvert_exporter": "python",
      "pygments_lexer": "ipython3",
      "version": "3.6.4"
    }
  },
  "nbformat": 4,
  "nbformat_minor": 0
}